{
 "cells": [
  {
   "cell_type": "code",
   "execution_count": 10,
   "metadata": {},
   "outputs": [],
   "source": [
    "# import stuffs\n",
    "import pandas as pd\n",
    "import requests \n",
    "import json"
   ]
  },
  {
   "cell_type": "code",
   "execution_count": 11,
   "metadata": {},
   "outputs": [],
   "source": [
    "# name stuffs\n",
    "file_two = 'McDonalds.csv'\n",
    "\n",
    "with open(file_two) as data_data:\n",
    "    anotha_one = pd.read_csv(data_data)\n",
    "    anotha_one = pd.DataFrame(anotha_one)\n",
    "    anotha_two = anotha_one"
   ]
  },
  {
   "cell_type": "code",
   "execution_count": 12,
   "metadata": {},
   "outputs": [],
   "source": [
    "# set up API link\n",
    "fcc_api = 'https://geo.fcc.gov/api/census/block/find'\n",
    "\n",
    "# function to look up county information\n",
    "def where_ru(lat, long):\n",
    "    params = {\n",
    "        'latitude': lat,\n",
    "        'longitude': long,\n",
    "        'censusYear': 2010,\n",
    "        'format': 'json'\n",
    "    }\n",
    "    cnty_info = requests.get(fcc_api, params=params)\n",
    "    cnty_info = cnty_info.json()\n",
    "    return cnty_info\n",
    "    \n",
    "# function used to retreive county name\n",
    "def there_ur(fcc_info):\n",
    "    over_where = fcc_info['County'].values()\n",
    "    o_there = list(over_where)[0]\n",
    "    return o_there\n",
    "\n",
    "# used to cycle through data and then look up information\n",
    "def fips_rreal(df):\n",
    "    alwys_wndrd = []\n",
    "    df = df.reset_index()\n",
    "    for y in df.index:\n",
    "        lats = df.loc[y, 'latitude']\n",
    "        longs = df.loc[y, 'longitude']\n",
    "        looky_here = where_ru(lat=lats, long=longs)\n",
    "        dip_fip = there_ur(fcc_info=looky_here)\n",
    "        alwys_wndrd.append(dip_fip)\n",
    "    df['FIPS'] = alwys_wndrd\n",
    "    return df"
   ]
  },
  {
   "cell_type": "code",
   "execution_count": 13,
   "metadata": {},
   "outputs": [],
   "source": [
    "anotha_two['latitude'] = [x.strip(\" ' [ ] ' \").split(',')[1] for x in anotha_two['geometry.coordinates'].values]\n",
    "anotha_two['longitude'] = [x.strip(\" ' [ ] ' \").split(',')[0] for x in anotha_two['geometry.coordinates'].values]\n",
    " \n",
    "rfips_real = fips_rreal(anotha_two)"
   ]
  },
  {
   "cell_type": "code",
   "execution_count": 14,
   "metadata": {},
   "outputs": [],
   "source": [
    "rfips_real = rfips_real[['FIPS', 'properties.addressLine3']]"
   ]
  },
  {
   "cell_type": "code",
   "execution_count": 15,
   "metadata": {},
   "outputs": [
    {
     "data": {
      "text/html": [
       "<div>\n",
       "<style scoped>\n",
       "    .dataframe tbody tr th:only-of-type {\n",
       "        vertical-align: middle;\n",
       "    }\n",
       "\n",
       "    .dataframe tbody tr th {\n",
       "        vertical-align: top;\n",
       "    }\n",
       "\n",
       "    .dataframe thead th {\n",
       "        text-align: right;\n",
       "    }\n",
       "</style>\n",
       "<table border=\"1\" class=\"dataframe\">\n",
       "  <thead>\n",
       "    <tr style=\"text-align: right;\">\n",
       "      <th></th>\n",
       "      <th>FIPS</th>\n",
       "      <th>properties.addressLine3</th>\n",
       "    </tr>\n",
       "  </thead>\n",
       "  <tbody>\n",
       "    <tr>\n",
       "      <th>0</th>\n",
       "      <td>47037</td>\n",
       "      <td>NASHVILLE</td>\n",
       "    </tr>\n",
       "    <tr>\n",
       "      <th>1</th>\n",
       "      <td>47037</td>\n",
       "      <td>NASHVILLE</td>\n",
       "    </tr>\n",
       "    <tr>\n",
       "      <th>2</th>\n",
       "      <td>47037</td>\n",
       "      <td>NASHVILLE</td>\n",
       "    </tr>\n",
       "    <tr>\n",
       "      <th>3</th>\n",
       "      <td>47037</td>\n",
       "      <td>NASHVILLE</td>\n",
       "    </tr>\n",
       "    <tr>\n",
       "      <th>4</th>\n",
       "      <td>47037</td>\n",
       "      <td>NASHVILLE</td>\n",
       "    </tr>\n",
       "  </tbody>\n",
       "</table>\n",
       "</div>"
      ],
      "text/plain": [
       "    FIPS properties.addressLine3\n",
       "0  47037               NASHVILLE\n",
       "1  47037               NASHVILLE\n",
       "2  47037               NASHVILLE\n",
       "3  47037               NASHVILLE\n",
       "4  47037               NASHVILLE"
      ]
     },
     "execution_count": 15,
     "metadata": {},
     "output_type": "execute_result"
    }
   ],
   "source": [
    "rfips_real.head()"
   ]
  },
  {
   "cell_type": "code",
   "execution_count": 42,
   "metadata": {},
   "outputs": [],
   "source": [
    "rfips_real.to_csv('McD_Location_FIPS.csv')"
   ]
  }
 ],
 "metadata": {
  "kernelspec": {
   "display_name": "Python 36 (py36)",
   "language": "python",
   "name": "pythonstuff"
  },
  "language_info": {
   "codemirror_mode": {
    "name": "ipython",
    "version": 3
   },
   "file_extension": ".py",
   "mimetype": "text/x-python",
   "name": "python",
   "nbconvert_exporter": "python",
   "pygments_lexer": "ipython3",
   "version": "3.7.3"
  }
 },
 "nbformat": 4,
 "nbformat_minor": 2
}
